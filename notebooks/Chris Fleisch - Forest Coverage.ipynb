{
 "cells": [
  {
   "cell_type": "code",
   "execution_count": 496,
   "metadata": {
    "collapsed": false
   },
   "outputs": [],
   "source": [
    "%matplotlib inline\n",
    "\n",
    "import pandas as pd\n",
    "import numpy as np\n",
    "import matplotlib.pyplot as plt\n",
    "\n",
    "from sklearn.model_selection import train_test_split\n",
    "from sklearn.preprocessing import StandardScaler\n",
    "from sklearn.preprocessing import OneHotEncoder\n",
    "from sklearn.model_selection import GridSearchCV\n",
    "from sklearn.pipeline import make_pipeline\n",
    "from sklearn.svm import SVC\n",
    "from sklearn.decomposition import PCA\n",
    "from sklearn.mixture import GaussianMixture\n",
    "from sklearn.metrics import classification_report\n",
    "from sklearn.linear_model import LogisticRegression\n",
    "from sklearn.linear_model import RidgeClassifier\n",
    "from sklearn.preprocessing import PolynomialFeatures\n",
    "from sklearn.tree import DecisionTreeClassifier\n",
    "from sklearn.ensemble import RandomForestClassifier \n",
    "from sklearn.ensemble import AdaBoostClassifier \n",
    "\n",
    "from IPython.display import clear_output"
   ]
  },
  {
   "cell_type": "code",
   "execution_count": 497,
   "metadata": {
    "collapsed": false
   },
   "outputs": [
    {
     "data": {
      "text/html": [
       "<div>\n",
       "<table border=\"1\" class=\"dataframe\">\n",
       "  <thead>\n",
       "    <tr style=\"text-align: right;\">\n",
       "      <th></th>\n",
       "      <th>Id</th>\n",
       "      <th>Elevation</th>\n",
       "      <th>Aspect</th>\n",
       "      <th>Slope</th>\n",
       "      <th>Horizontal_Distance_To_Hydrology</th>\n",
       "      <th>Vertical_Distance_To_Hydrology</th>\n",
       "      <th>Horizontal_Distance_To_Roadways</th>\n",
       "      <th>Hillshade_9am</th>\n",
       "      <th>Hillshade_Noon</th>\n",
       "      <th>Hillshade_3pm</th>\n",
       "      <th>...</th>\n",
       "      <th>Soil_Type32</th>\n",
       "      <th>Soil_Type33</th>\n",
       "      <th>Soil_Type34</th>\n",
       "      <th>Soil_Type35</th>\n",
       "      <th>Soil_Type36</th>\n",
       "      <th>Soil_Type37</th>\n",
       "      <th>Soil_Type38</th>\n",
       "      <th>Soil_Type39</th>\n",
       "      <th>Soil_Type40</th>\n",
       "      <th>Cover_Type</th>\n",
       "    </tr>\n",
       "  </thead>\n",
       "  <tbody>\n",
       "    <tr>\n",
       "      <th>0</th>\n",
       "      <td>1</td>\n",
       "      <td>2596</td>\n",
       "      <td>51</td>\n",
       "      <td>3</td>\n",
       "      <td>258</td>\n",
       "      <td>0</td>\n",
       "      <td>510</td>\n",
       "      <td>221</td>\n",
       "      <td>232</td>\n",
       "      <td>148</td>\n",
       "      <td>...</td>\n",
       "      <td>0</td>\n",
       "      <td>0</td>\n",
       "      <td>0</td>\n",
       "      <td>0</td>\n",
       "      <td>0</td>\n",
       "      <td>0</td>\n",
       "      <td>0</td>\n",
       "      <td>0</td>\n",
       "      <td>0</td>\n",
       "      <td>5</td>\n",
       "    </tr>\n",
       "    <tr>\n",
       "      <th>1</th>\n",
       "      <td>2</td>\n",
       "      <td>2590</td>\n",
       "      <td>56</td>\n",
       "      <td>2</td>\n",
       "      <td>212</td>\n",
       "      <td>-6</td>\n",
       "      <td>390</td>\n",
       "      <td>220</td>\n",
       "      <td>235</td>\n",
       "      <td>151</td>\n",
       "      <td>...</td>\n",
       "      <td>0</td>\n",
       "      <td>0</td>\n",
       "      <td>0</td>\n",
       "      <td>0</td>\n",
       "      <td>0</td>\n",
       "      <td>0</td>\n",
       "      <td>0</td>\n",
       "      <td>0</td>\n",
       "      <td>0</td>\n",
       "      <td>5</td>\n",
       "    </tr>\n",
       "    <tr>\n",
       "      <th>2</th>\n",
       "      <td>3</td>\n",
       "      <td>2804</td>\n",
       "      <td>139</td>\n",
       "      <td>9</td>\n",
       "      <td>268</td>\n",
       "      <td>65</td>\n",
       "      <td>3180</td>\n",
       "      <td>234</td>\n",
       "      <td>238</td>\n",
       "      <td>135</td>\n",
       "      <td>...</td>\n",
       "      <td>0</td>\n",
       "      <td>0</td>\n",
       "      <td>0</td>\n",
       "      <td>0</td>\n",
       "      <td>0</td>\n",
       "      <td>0</td>\n",
       "      <td>0</td>\n",
       "      <td>0</td>\n",
       "      <td>0</td>\n",
       "      <td>2</td>\n",
       "    </tr>\n",
       "    <tr>\n",
       "      <th>3</th>\n",
       "      <td>4</td>\n",
       "      <td>2785</td>\n",
       "      <td>155</td>\n",
       "      <td>18</td>\n",
       "      <td>242</td>\n",
       "      <td>118</td>\n",
       "      <td>3090</td>\n",
       "      <td>238</td>\n",
       "      <td>238</td>\n",
       "      <td>122</td>\n",
       "      <td>...</td>\n",
       "      <td>0</td>\n",
       "      <td>0</td>\n",
       "      <td>0</td>\n",
       "      <td>0</td>\n",
       "      <td>0</td>\n",
       "      <td>0</td>\n",
       "      <td>0</td>\n",
       "      <td>0</td>\n",
       "      <td>0</td>\n",
       "      <td>2</td>\n",
       "    </tr>\n",
       "    <tr>\n",
       "      <th>4</th>\n",
       "      <td>5</td>\n",
       "      <td>2595</td>\n",
       "      <td>45</td>\n",
       "      <td>2</td>\n",
       "      <td>153</td>\n",
       "      <td>-1</td>\n",
       "      <td>391</td>\n",
       "      <td>220</td>\n",
       "      <td>234</td>\n",
       "      <td>150</td>\n",
       "      <td>...</td>\n",
       "      <td>0</td>\n",
       "      <td>0</td>\n",
       "      <td>0</td>\n",
       "      <td>0</td>\n",
       "      <td>0</td>\n",
       "      <td>0</td>\n",
       "      <td>0</td>\n",
       "      <td>0</td>\n",
       "      <td>0</td>\n",
       "      <td>5</td>\n",
       "    </tr>\n",
       "  </tbody>\n",
       "</table>\n",
       "<p>5 rows × 56 columns</p>\n",
       "</div>"
      ],
      "text/plain": [
       "   Id  Elevation  Aspect  Slope  Horizontal_Distance_To_Hydrology  \\\n",
       "0   1       2596      51      3                               258   \n",
       "1   2       2590      56      2                               212   \n",
       "2   3       2804     139      9                               268   \n",
       "3   4       2785     155     18                               242   \n",
       "4   5       2595      45      2                               153   \n",
       "\n",
       "   Vertical_Distance_To_Hydrology  Horizontal_Distance_To_Roadways  \\\n",
       "0                               0                              510   \n",
       "1                              -6                              390   \n",
       "2                              65                             3180   \n",
       "3                             118                             3090   \n",
       "4                              -1                              391   \n",
       "\n",
       "   Hillshade_9am  Hillshade_Noon  Hillshade_3pm     ...      Soil_Type32  \\\n",
       "0            221             232            148     ...                0   \n",
       "1            220             235            151     ...                0   \n",
       "2            234             238            135     ...                0   \n",
       "3            238             238            122     ...                0   \n",
       "4            220             234            150     ...                0   \n",
       "\n",
       "   Soil_Type33  Soil_Type34  Soil_Type35  Soil_Type36  Soil_Type37  \\\n",
       "0            0            0            0            0            0   \n",
       "1            0            0            0            0            0   \n",
       "2            0            0            0            0            0   \n",
       "3            0            0            0            0            0   \n",
       "4            0            0            0            0            0   \n",
       "\n",
       "   Soil_Type38  Soil_Type39  Soil_Type40  Cover_Type  \n",
       "0            0            0            0           5  \n",
       "1            0            0            0           5  \n",
       "2            0            0            0           2  \n",
       "3            0            0            0           2  \n",
       "4            0            0            0           5  \n",
       "\n",
       "[5 rows x 56 columns]"
      ]
     },
     "execution_count": 497,
     "metadata": {},
     "output_type": "execute_result"
    }
   ],
   "source": [
    "df = pd.read_csv('../data/train.csv', header=0)\n",
    "df.head()"
   ]
  },
  {
   "cell_type": "code",
   "execution_count": 498,
   "metadata": {
    "collapsed": true
   },
   "outputs": [],
   "source": [
    "target_names = ['1 - Spruce/Fir', '2 - Lodgepole Pine', '3 - Ponderosa Pine', \n",
    "                '4 - Cottonwood/Willow', '5 - Aspen', '6 - Douglas-fir',\n",
    "                '7 - Krummholz']"
   ]
  },
  {
   "cell_type": "code",
   "execution_count": 499,
   "metadata": {
    "collapsed": false
   },
   "outputs": [
    {
     "data": {
      "text/plain": [
       "(15120, 54)"
      ]
     },
     "execution_count": 499,
     "metadata": {},
     "output_type": "execute_result"
    }
   ],
   "source": [
    "# Drop the ID and last column (Cover Type)\n",
    "data = df.drop(['Id', df.columns[len(df.columns) - 1]], axis=1)\n",
    "data.shape"
   ]
  },
  {
   "cell_type": "code",
   "execution_count": 500,
   "metadata": {
    "collapsed": false
   },
   "outputs": [
    {
     "data": {
      "text/plain": [
       "(15120,)"
      ]
     },
     "execution_count": 500,
     "metadata": {},
     "output_type": "execute_result"
    }
   ],
   "source": [
    "# Store the cover type in labels\n",
    "labels = df[df.columns[len(df.columns) - 1]]\n",
    "labels.shape"
   ]
  },
  {
   "cell_type": "code",
   "execution_count": 501,
   "metadata": {
    "collapsed": false
   },
   "outputs": [
    {
     "name": "stdout",
     "output_type": "stream",
     "text": [
      "count    15120.000000\n",
      "mean      2749.322553\n",
      "std        417.678187\n",
      "min       1863.000000\n",
      "25%       2376.000000\n",
      "50%       2752.000000\n",
      "75%       3104.000000\n",
      "max       3849.000000\n",
      "Name: Elevation, dtype: float64 \n",
      "\n",
      "count    15120.000000\n",
      "mean       156.676653\n",
      "std        110.085801\n",
      "min          0.000000\n",
      "25%         65.000000\n",
      "50%        126.000000\n",
      "75%        261.000000\n",
      "max        360.000000\n",
      "Name: Aspect, dtype: float64 \n",
      "\n",
      "count    15120.000000\n",
      "mean        16.501587\n",
      "std          8.453927\n",
      "min          0.000000\n",
      "25%         10.000000\n",
      "50%         15.000000\n",
      "75%         22.000000\n",
      "max         52.000000\n",
      "Name: Slope, dtype: float64 \n",
      "\n",
      "count    15120.000000\n",
      "mean       227.195701\n",
      "std        210.075296\n",
      "min          0.000000\n",
      "25%         67.000000\n",
      "50%        180.000000\n",
      "75%        330.000000\n",
      "max       1343.000000\n",
      "Name: Horizontal_Distance_To_Hydrology, dtype: float64 \n",
      "\n",
      "count    15120.000000\n",
      "mean        51.076521\n",
      "std         61.239406\n",
      "min       -146.000000\n",
      "25%          5.000000\n",
      "50%         32.000000\n",
      "75%         79.000000\n",
      "max        554.000000\n",
      "Name: Vertical_Distance_To_Hydrology, dtype: float64 \n",
      "\n",
      "count    15120.000000\n",
      "mean      1714.023214\n",
      "std       1325.066358\n",
      "min          0.000000\n",
      "25%        764.000000\n",
      "50%       1316.000000\n",
      "75%       2270.000000\n",
      "max       6890.000000\n",
      "Name: Horizontal_Distance_To_Roadways, dtype: float64 \n",
      "\n",
      "count    15120.000000\n",
      "mean       212.704299\n",
      "std         30.561287\n",
      "min          0.000000\n",
      "25%        196.000000\n",
      "50%        220.000000\n",
      "75%        235.000000\n",
      "max        254.000000\n",
      "Name: Hillshade_9am, dtype: float64 \n",
      "\n",
      "count    15120.000000\n",
      "mean       218.965608\n",
      "std         22.801966\n",
      "min         99.000000\n",
      "25%        207.000000\n",
      "50%        223.000000\n",
      "75%        235.000000\n",
      "max        254.000000\n",
      "Name: Hillshade_Noon, dtype: float64 \n",
      "\n",
      "count    15120.000000\n",
      "mean       135.091997\n",
      "std         45.895189\n",
      "min          0.000000\n",
      "25%        106.000000\n",
      "50%        138.000000\n",
      "75%        167.000000\n",
      "max        248.000000\n",
      "Name: Hillshade_3pm, dtype: float64 \n",
      "\n",
      "count    15120.000000\n",
      "mean      1511.147288\n",
      "std       1099.936493\n",
      "min          0.000000\n",
      "25%        730.000000\n",
      "50%       1256.000000\n",
      "75%       1988.250000\n",
      "max       6993.000000\n",
      "Name: Horizontal_Distance_To_Fire_Points, dtype: float64 \n",
      "\n",
      "count    15120.000000\n",
      "mean         0.237897\n",
      "std          0.425810\n",
      "min          0.000000\n",
      "25%          0.000000\n",
      "50%          0.000000\n",
      "75%          0.000000\n",
      "max          1.000000\n",
      "Name: Wilderness_Area1, dtype: float64 \n",
      "\n",
      "count    15120.000000\n",
      "mean         0.033003\n",
      "std          0.178649\n",
      "min          0.000000\n",
      "25%          0.000000\n",
      "50%          0.000000\n",
      "75%          0.000000\n",
      "max          1.000000\n",
      "Name: Wilderness_Area2, dtype: float64 \n",
      "\n",
      "count    15120.000000\n",
      "mean         0.419907\n",
      "std          0.493560\n",
      "min          0.000000\n",
      "25%          0.000000\n",
      "50%          0.000000\n",
      "75%          1.000000\n",
      "max          1.000000\n",
      "Name: Wilderness_Area3, dtype: float64 \n",
      "\n",
      "count    15120.000000\n",
      "mean         0.309193\n",
      "std          0.462176\n",
      "min          0.000000\n",
      "25%          0.000000\n",
      "50%          0.000000\n",
      "75%          1.000000\n",
      "max          1.000000\n",
      "Name: Wilderness_Area4, dtype: float64 \n",
      "\n",
      "count    15120.000000\n",
      "mean         0.023479\n",
      "std          0.151424\n",
      "min          0.000000\n",
      "25%          0.000000\n",
      "50%          0.000000\n",
      "75%          0.000000\n",
      "max          1.000000\n",
      "Name: Soil_Type1, dtype: float64 \n",
      "\n",
      "count    15120.000000\n",
      "mean         0.041204\n",
      "std          0.198768\n",
      "min          0.000000\n",
      "25%          0.000000\n",
      "50%          0.000000\n",
      "75%          0.000000\n",
      "max          1.000000\n",
      "Name: Soil_Type2, dtype: float64 \n",
      "\n",
      "count    15120.000000\n",
      "mean         0.063624\n",
      "std          0.244091\n",
      "min          0.000000\n",
      "25%          0.000000\n",
      "50%          0.000000\n",
      "75%          0.000000\n",
      "max          1.000000\n",
      "Name: Soil_Type3, dtype: float64 \n",
      "\n",
      "count    15120.000000\n",
      "mean         0.055754\n",
      "std          0.229454\n",
      "min          0.000000\n",
      "25%          0.000000\n",
      "50%          0.000000\n",
      "75%          0.000000\n",
      "max          1.000000\n",
      "Name: Soil_Type4, dtype: float64 \n",
      "\n",
      "count    15120.000000\n",
      "mean         0.010913\n",
      "std          0.103896\n",
      "min          0.000000\n",
      "25%          0.000000\n",
      "50%          0.000000\n",
      "75%          0.000000\n",
      "max          1.000000\n",
      "Name: Soil_Type5, dtype: float64 \n",
      "\n",
      "count    15120.000000\n",
      "mean         0.042989\n",
      "std          0.202840\n",
      "min          0.000000\n",
      "25%          0.000000\n",
      "50%          0.000000\n",
      "75%          0.000000\n",
      "max          1.000000\n",
      "Name: Soil_Type6, dtype: float64 \n",
      "\n",
      "count    15120.0\n",
      "mean         0.0\n",
      "std          0.0\n",
      "min          0.0\n",
      "25%          0.0\n",
      "50%          0.0\n",
      "75%          0.0\n",
      "max          0.0\n",
      "Name: Soil_Type7, dtype: float64 \n",
      "\n",
      "count    15120.000000\n",
      "mean         0.000066\n",
      "std          0.008133\n",
      "min          0.000000\n",
      "25%          0.000000\n",
      "50%          0.000000\n",
      "75%          0.000000\n",
      "max          1.000000\n",
      "Name: Soil_Type8, dtype: float64 \n",
      "\n",
      "count    15120.000000\n",
      "mean         0.000661\n",
      "std          0.025710\n",
      "min          0.000000\n",
      "25%          0.000000\n",
      "50%          0.000000\n",
      "75%          0.000000\n",
      "max          1.000000\n",
      "Name: Soil_Type9, dtype: float64 \n",
      "\n",
      "count    15120.000000\n",
      "mean         0.141667\n",
      "std          0.348719\n",
      "min          0.000000\n",
      "25%          0.000000\n",
      "50%          0.000000\n",
      "75%          0.000000\n",
      "max          1.000000\n",
      "Name: Soil_Type10, dtype: float64 \n",
      "\n",
      "count    15120.000000\n",
      "mean         0.026852\n",
      "std          0.161656\n",
      "min          0.000000\n",
      "25%          0.000000\n",
      "50%          0.000000\n",
      "75%          0.000000\n",
      "max          1.000000\n",
      "Name: Soil_Type11, dtype: float64 \n",
      "\n",
      "count    15120.000000\n",
      "mean         0.015013\n",
      "std          0.121609\n",
      "min          0.000000\n",
      "25%          0.000000\n",
      "50%          0.000000\n",
      "75%          0.000000\n",
      "max          1.000000\n",
      "Name: Soil_Type12, dtype: float64 \n",
      "\n",
      "count    15120.000000\n",
      "mean         0.031481\n",
      "std          0.174621\n",
      "min          0.000000\n",
      "25%          0.000000\n",
      "50%          0.000000\n",
      "75%          0.000000\n",
      "max          1.000000\n",
      "Name: Soil_Type13, dtype: float64 \n",
      "\n",
      "count    15120.000000\n",
      "mean         0.011177\n",
      "std          0.105133\n",
      "min          0.000000\n",
      "25%          0.000000\n",
      "50%          0.000000\n",
      "75%          0.000000\n",
      "max          1.000000\n",
      "Name: Soil_Type14, dtype: float64 \n",
      "\n",
      "count    15120.0\n",
      "mean         0.0\n",
      "std          0.0\n",
      "min          0.0\n",
      "25%          0.0\n",
      "50%          0.0\n",
      "75%          0.0\n",
      "max          0.0\n",
      "Name: Soil_Type15, dtype: float64 \n",
      "\n",
      "count    15120.000000\n",
      "mean         0.007540\n",
      "std          0.086506\n",
      "min          0.000000\n",
      "25%          0.000000\n",
      "50%          0.000000\n",
      "75%          0.000000\n",
      "max          1.000000\n",
      "Name: Soil_Type16, dtype: float64 \n",
      "\n",
      "count    15120.000000\n",
      "mean         0.040476\n",
      "std          0.197080\n",
      "min          0.000000\n",
      "25%          0.000000\n",
      "50%          0.000000\n",
      "75%          0.000000\n",
      "max          1.000000\n",
      "Name: Soil_Type17, dtype: float64 \n",
      "\n",
      "count    15120.000000\n",
      "mean         0.003968\n",
      "std          0.062871\n",
      "min          0.000000\n",
      "25%          0.000000\n",
      "50%          0.000000\n",
      "75%          0.000000\n",
      "max          1.000000\n",
      "Name: Soil_Type18, dtype: float64 \n",
      "\n",
      "count    15120.000000\n",
      "mean         0.003042\n",
      "std          0.055075\n",
      "min          0.000000\n",
      "25%          0.000000\n",
      "50%          0.000000\n",
      "75%          0.000000\n",
      "max          1.000000\n",
      "Name: Soil_Type19, dtype: float64 \n",
      "\n",
      "count    15120.000000\n",
      "mean         0.009193\n",
      "std          0.095442\n",
      "min          0.000000\n",
      "25%          0.000000\n",
      "50%          0.000000\n",
      "75%          0.000000\n",
      "max          1.000000\n",
      "Name: Soil_Type20, dtype: float64 \n",
      "\n",
      "count    15120.000000\n",
      "mean         0.001058\n",
      "std          0.032514\n",
      "min          0.000000\n",
      "25%          0.000000\n",
      "50%          0.000000\n",
      "75%          0.000000\n",
      "max          1.000000\n",
      "Name: Soil_Type21, dtype: float64 \n",
      "\n",
      "count    15120.000000\n",
      "mean         0.022817\n",
      "std          0.149326\n",
      "min          0.000000\n",
      "25%          0.000000\n",
      "50%          0.000000\n",
      "75%          0.000000\n",
      "max          1.000000\n",
      "Name: Soil_Type22, dtype: float64 \n",
      "\n",
      "count    15120.000000\n",
      "mean         0.050066\n",
      "std          0.218089\n",
      "min          0.000000\n",
      "25%          0.000000\n",
      "50%          0.000000\n",
      "75%          0.000000\n",
      "max          1.000000\n",
      "Name: Soil_Type23, dtype: float64 \n",
      "\n",
      "count    15120.000000\n",
      "mean         0.016997\n",
      "std          0.129265\n",
      "min          0.000000\n",
      "25%          0.000000\n",
      "50%          0.000000\n",
      "75%          0.000000\n",
      "max          1.000000\n",
      "Name: Soil_Type24, dtype: float64 \n",
      "\n",
      "count    15120.000000\n",
      "mean         0.000066\n",
      "std          0.008133\n",
      "min          0.000000\n",
      "25%          0.000000\n",
      "50%          0.000000\n",
      "75%          0.000000\n",
      "max          1.000000\n",
      "Name: Soil_Type25, dtype: float64 \n",
      "\n",
      "count    15120.000000\n",
      "mean         0.003571\n",
      "std          0.059657\n",
      "min          0.000000\n",
      "25%          0.000000\n",
      "50%          0.000000\n",
      "75%          0.000000\n",
      "max          1.000000\n",
      "Name: Soil_Type26, dtype: float64 \n",
      "\n",
      "count    15120.000000\n",
      "mean         0.000992\n",
      "std          0.031482\n",
      "min          0.000000\n",
      "25%          0.000000\n",
      "50%          0.000000\n",
      "75%          0.000000\n",
      "max          1.000000\n",
      "Name: Soil_Type27, dtype: float64 \n",
      "\n",
      "count    15120.000000\n",
      "mean         0.000595\n",
      "std          0.024391\n",
      "min          0.000000\n",
      "25%          0.000000\n",
      "50%          0.000000\n",
      "75%          0.000000\n",
      "max          1.000000\n",
      "Name: Soil_Type28, dtype: float64 \n",
      "\n",
      "count    15120.000000\n",
      "mean         0.085384\n",
      "std          0.279461\n",
      "min          0.000000\n",
      "25%          0.000000\n",
      "50%          0.000000\n",
      "75%          0.000000\n",
      "max          1.000000\n",
      "Name: Soil_Type29, dtype: float64 \n",
      "\n",
      "count    15120.000000\n",
      "mean         0.047950\n",
      "std          0.213667\n",
      "min          0.000000\n",
      "25%          0.000000\n",
      "50%          0.000000\n",
      "75%          0.000000\n",
      "max          1.000000\n",
      "Name: Soil_Type30, dtype: float64 \n",
      "\n",
      "count    15120.000000\n",
      "mean         0.021958\n",
      "std          0.146550\n",
      "min          0.000000\n",
      "25%          0.000000\n",
      "50%          0.000000\n",
      "75%          0.000000\n",
      "max          1.000000\n",
      "Name: Soil_Type31, dtype: float64 \n",
      "\n",
      "count    15120.000000\n",
      "mean         0.045635\n",
      "std          0.208699\n",
      "min          0.000000\n",
      "25%          0.000000\n",
      "50%          0.000000\n",
      "75%          0.000000\n",
      "max          1.000000\n",
      "Name: Soil_Type32, dtype: float64 \n",
      "\n",
      "count    15120.000000\n",
      "mean         0.040741\n",
      "std          0.197696\n",
      "min          0.000000\n",
      "25%          0.000000\n",
      "50%          0.000000\n",
      "75%          0.000000\n",
      "max          1.000000\n",
      "Name: Soil_Type33, dtype: float64 \n",
      "\n",
      "count    15120.000000\n",
      "mean         0.001455\n",
      "std          0.038118\n",
      "min          0.000000\n",
      "25%          0.000000\n",
      "50%          0.000000\n",
      "75%          0.000000\n",
      "max          1.000000\n",
      "Name: Soil_Type34, dtype: float64 \n",
      "\n",
      "count    15120.000000\n",
      "mean         0.006746\n",
      "std          0.081859\n",
      "min          0.000000\n",
      "25%          0.000000\n",
      "50%          0.000000\n",
      "75%          0.000000\n",
      "max          1.000000\n",
      "Name: Soil_Type35, dtype: float64 \n",
      "\n",
      "count    15120.000000\n",
      "mean         0.000661\n",
      "std          0.025710\n",
      "min          0.000000\n",
      "25%          0.000000\n",
      "50%          0.000000\n",
      "75%          0.000000\n",
      "max          1.000000\n",
      "Name: Soil_Type36, dtype: float64 \n",
      "\n",
      "count    15120.000000\n",
      "mean         0.002249\n",
      "std          0.047368\n",
      "min          0.000000\n",
      "25%          0.000000\n",
      "50%          0.000000\n",
      "75%          0.000000\n",
      "max          1.000000\n",
      "Name: Soil_Type37, dtype: float64 \n",
      "\n",
      "count    15120.000000\n",
      "mean         0.048148\n",
      "std          0.214086\n",
      "min          0.000000\n",
      "25%          0.000000\n",
      "50%          0.000000\n",
      "75%          0.000000\n",
      "max          1.000000\n",
      "Name: Soil_Type38, dtype: float64 \n",
      "\n",
      "count    15120.000000\n",
      "mean         0.043452\n",
      "std          0.203880\n",
      "min          0.000000\n",
      "25%          0.000000\n",
      "50%          0.000000\n",
      "75%          0.000000\n",
      "max          1.000000\n",
      "Name: Soil_Type39, dtype: float64 \n",
      "\n",
      "count    15120.000000\n",
      "mean         0.030357\n",
      "std          0.171574\n",
      "min          0.000000\n",
      "25%          0.000000\n",
      "50%          0.000000\n",
      "75%          0.000000\n",
      "max          1.000000\n",
      "Name: Soil_Type40, dtype: float64 \n",
      "\n"
     ]
    }
   ],
   "source": [
    "for column in data.columns:\n",
    "    print(data[column].describe(), \"\\n\")"
   ]
  },
  {
   "cell_type": "code",
   "execution_count": 502,
   "metadata": {
    "collapsed": false
   },
   "outputs": [
    {
     "name": "stdout",
     "output_type": "stream",
     "text": [
      "Drop column: Soil_Type7\n",
      "Drop column: Soil_Type15\n",
      "(15120, 52)\n"
     ]
    }
   ],
   "source": [
    "# remove columns with no variance\n",
    "for column in data.columns:\n",
    "    if data[column].std() == 0:\n",
    "        print('Drop column: {}'.format(column))\n",
    "        data.drop([column], axis=1, inplace=True)\n",
    "\n",
    "print(data.shape)"
   ]
  },
  {
   "cell_type": "code",
   "execution_count": 503,
   "metadata": {
    "collapsed": false
   },
   "outputs": [],
   "source": [
    "X_train, X_test, y_train, y_test = train_test_split(\n",
    "    data, labels, test_size=0.33, random_state=42)"
   ]
  },
  {
   "cell_type": "code",
   "execution_count": 504,
   "metadata": {
    "collapsed": true
   },
   "outputs": [],
   "source": [
    "std_scale = StandardScaler().fit(X_train)\n",
    "X_train_std = std_scale.transform(X_train)\n",
    "X_test_std = std_scale.transform(X_test)"
   ]
  },
  {
   "cell_type": "code",
   "execution_count": 505,
   "metadata": {
    "collapsed": false
   },
   "outputs": [
    {
     "data": {
      "image/png": "[encoded data removed]",
      "text/plain": [
       "<matplotlib.figure.Figure at 0x13d84fc50>"
      ]
     },
     "metadata": {},
     "output_type": "display_data"
    }
   ],
   "source": [
    "kwargs = dict(histtype='stepfilled', alpha=0.3)\n",
    "\n",
    "for label in labels.unique():\n",
    "    plt.hist(X_train.Elevation[y_train==label], **kwargs)"
   ]
  },
  {
   "cell_type": "code",
   "execution_count": 464,
   "metadata": {
    "collapsed": false
   },
   "outputs": [
    {
     "data": {
      "image/png": "[encoded data removed]",
      "text/plain": [
       "<matplotlib.figure.Figure at 0x1b9028438>"
      ]
     },
     "metadata": {},
     "output_type": "display_data"
    }
   ],
   "source": [
    "kwargs = dict(histtype='stepfilled', alpha=0.3, bins=40)\n",
    "\n",
    "plt.hist(X_train.Elevation[y_train==4], **kwargs)\n",
    "plt.hist(X_train.Elevation[y_train==7], **kwargs);"
   ]
  },
  {
   "cell_type": "code",
   "execution_count": 546,
   "metadata": {
    "collapsed": false
   },
   "outputs": [
    {
     "data": {
      "image/png": "[encoded data removed]",
      "text/plain": [
       "<matplotlib.figure.Figure at 0x1185d12b0>"
      ]
     },
     "metadata": {},
     "output_type": "display_data"
    }
   ],
   "source": [
    "plt.hist(X_train.Horizontal_Distance_To_Fire_Points[y_train==1], **kwargs)\n",
    "plt.hist(X_train.Horizontal_Distance_To_Fire_Points[y_train==2], **kwargs);"
   ]
  },
  {
   "cell_type": "code",
   "execution_count": 466,
   "metadata": {
    "collapsed": false
   },
   "outputs": [
    {
     "data": {
      "image/png": "[encoded data removed]",
      "text/plain": [
       "<matplotlib.figure.Figure at 0x1185dfb00>"
      ]
     },
     "metadata": {},
     "output_type": "display_data"
    }
   ],
   "source": [
    "kwargs = dict(histtype='stepfilled', alpha=0.3)\n",
    "\n",
    "fig, ax = plt.subplots(2, 5, figsize=(16, 8))\n",
    "for i, axi in enumerate(ax.flat):\n",
    "    for label in labels.unique():\n",
    "        axi.hist(X_train.ix[y_train==label, i], **kwargs)\n",
    "    axi.set_title(X_train.columns[i])"
   ]
  },
  {
   "cell_type": "code",
   "execution_count": null,
   "metadata": {
    "collapsed": false
   },
   "outputs": [],
   "source": []
  },
  {
   "cell_type": "markdown",
   "metadata": {},
   "source": [
    "### PCA"
   ]
  },
  {
   "cell_type": "code",
   "execution_count": 69,
   "metadata": {
    "collapsed": true
   },
   "outputs": [],
   "source": [
    "pca = PCA(n_components=2)\n",
    "X_2D = pca.fit_transform(X_train_std)"
   ]
  },
  {
   "cell_type": "code",
   "execution_count": 70,
   "metadata": {
    "collapsed": false
   },
   "outputs": [
    {
     "data": {
      "text/plain": [
       "<matplotlib.colorbar.Colorbar at 0x13b53ecf8>"
      ]
     },
     "execution_count": 70,
     "metadata": {},
     "output_type": "execute_result"
    },
    {
     "data": {
      "image/png": "[encoded data removed]",
      "text/plain": [
       "<matplotlib.figure.Figure at 0x1206e9048>"
      ]
     },
     "metadata": {},
     "output_type": "display_data"
    }
   ],
   "source": [
    "plt.scatter(X_2D[:, 0], X_2D[:, 1],\n",
    "            c=y_train, edgecolor='none', alpha=0.5,\n",
    "            cmap=plt.cm.get_cmap('nipy_spectral', 7))\n",
    "plt.xlabel('component 1')\n",
    "plt.ylabel('component 2')\n",
    "plt.colorbar()"
   ]
  },
  {
   "cell_type": "code",
   "execution_count": 72,
   "metadata": {
    "collapsed": false
   },
   "outputs": [
    {
     "data": {
      "text/plain": [
       "<matplotlib.text.Text at 0x13b577470>"
      ]
     },
     "execution_count": 72,
     "metadata": {},
     "output_type": "execute_result"
    },
    {
     "data": {
      "image/png": "[encoded data removed]",
      "text/plain": [
       "<matplotlib.figure.Figure at 0x13b553be0>"
      ]
     },
     "metadata": {},
     "output_type": "display_data"
    }
   ],
   "source": [
    "pca = PCA(n_components=52)\n",
    "pca.fit(X_train_std)\n",
    "plt.plot(np.cumsum(pca.explained_variance_ratio_))\n",
    "plt.xlabel('number of components')\n",
    "plt.ylabel('cumulative explained variance')"
   ]
  },
  {
   "cell_type": "markdown",
   "metadata": {},
   "source": [
    "## SVM"
   ]
  },
  {
   "cell_type": "code",
   "execution_count": 73,
   "metadata": {
    "collapsed": false
   },
   "outputs": [
    {
     "name": "stdout",
     "output_type": "stream",
     "text": [
      "CPU times: user 4.13 s, sys: 158 ms, total: 4.29 s\n",
      "Wall time: 4min 5s\n"
     ]
    },
    {
     "data": {
      "text/plain": [
       "GridSearchCV(cv=3, error_score='raise',\n",
       "       estimator=Pipeline(steps=[('svc', SVC(C=1.0, cache_size=200, class_weight=None, coef0=0.0,\n",
       "  decision_function_shape=None, degree=3, gamma='auto', kernel='rbf',\n",
       "  max_iter=-1, probability=False, random_state=None, shrinking=True,\n",
       "  tol=0.001, verbose=False))]),\n",
       "       fit_params={}, iid=True, n_jobs=-1,\n",
       "       param_grid={'svc__kernel': ['linear', 'rbf'], 'svc__gamma': [0.01, 0.05, 0.1], 'svc__C': [50, 100, 200]},\n",
       "       pre_dispatch='2*n_jobs', refit=True, return_train_score=True,\n",
       "       scoring=None, verbose=0)"
      ]
     },
     "execution_count": 73,
     "metadata": {},
     "output_type": "execute_result"
    }
   ],
   "source": [
    "model = make_pipeline(SVC())\n",
    "\n",
    "param_grid = {\n",
    "    'svc__kernel': ['linear', 'rbf'],  # 'linear', 'rbf'\n",
    "    'svc__C': [50, 100, 200],  # 1, 5, 10, 50, 100, 200\n",
    "    'svc__gamma': [.01, .05, .1]}  # 0.0001, 0.0005, 0.001, 0.005, .01, .1\n",
    "grid = GridSearchCV(model, param_grid, cv=3, n_jobs=-1)\n",
    "%time grid.fit(X_train_std, y_train)"
   ]
  },
  {
   "cell_type": "code",
   "execution_count": 74,
   "metadata": {
    "collapsed": false
   },
   "outputs": [
    {
     "name": "stdout",
     "output_type": "stream",
     "text": [
      "{'svc__C': 100, 'svc__gamma': 0.05, 'svc__kernel': 'rbf'}\n"
     ]
    }
   ],
   "source": [
    "print(grid.best_params_)\n",
    "model = grid.best_estimator_\n",
    "y_pred = model.predict(X_test_std)"
   ]
  },
  {
   "cell_type": "code",
   "execution_count": 75,
   "metadata": {
    "collapsed": false
   },
   "outputs": [
    {
     "name": "stdout",
     "output_type": "stream",
     "text": [
      "                       precision    recall  f1-score   support\n",
      "\n",
      "       1 - Spruce/Fir       0.73      0.72      0.73       679\n",
      "   2 - Lodgepole Pine       0.72      0.65      0.68       722\n",
      "   3 - Ponderosa Pine       0.80      0.75      0.77       704\n",
      "4 - Cottonwood/Willow       0.91      0.96      0.93       739\n",
      "            5 - Aspen       0.88      0.91      0.89       721\n",
      "      6 - Douglas-fir       0.80      0.83      0.82       722\n",
      "        7 - Krummholz       0.93      0.97      0.95       703\n",
      "\n",
      "          avg / total       0.83      0.83      0.83      4990\n",
      "\n"
     ]
    }
   ],
   "source": [
    "print(classification_report(y_test, y_pred, target_names=target_names))"
   ]
  },
  {
   "cell_type": "markdown",
   "metadata": {},
   "source": [
    "## Logistic Regression"
   ]
  },
  {
   "cell_type": "code",
   "execution_count": 156,
   "metadata": {
    "collapsed": false
   },
   "outputs": [
    {
     "name": "stdout",
     "output_type": "stream",
     "text": [
      "CPU times: user 30.1 s, sys: 504 ms, total: 30.6 s\n",
      "Wall time: 15min 32s\n",
      "Best params for Logistic Regression: {'logisticregression__penalty': 'l2', 'polynomialfeatures__degree': 2, 'logisticregression__tol': 0.01, 'logisticregression__C': 10, 'pca__n_components': 22}\n"
     ]
    }
   ],
   "source": [
    "model = make_pipeline(PCA(), PolynomialFeatures(), LogisticRegression())\n",
    "c_vals = [1, 2, 4, 10] #[.0001, 0.001, 0.01, 0.1, 1, 2, 4, 10, 20, 50, 100]\n",
    "tol = [.01]\n",
    "param_grid = {\n",
    "    'pca__n_components': range(21, 23),\n",
    "    'polynomialfeatures__degree': range(1, 3),\n",
    "    'logisticregression__C': c_vals,\n",
    "    'logisticregression__tol': tol,\n",
    "    'logisticregression__penalty': ['l2', 'l1']\n",
    "}\n",
    "grid = GridSearchCV(model, param_grid=param_grid, cv=3, n_jobs=6)\n",
    "%time grid.fit(X_train_std, y_train)\n",
    "print('Best params for Logistic Regression: {}'. \\\n",
    "      format(grid.best_params_))"
   ]
  },
  {
   "cell_type": "code",
   "execution_count": 157,
   "metadata": {
    "collapsed": false
   },
   "outputs": [
    {
     "name": "stdout",
     "output_type": "stream",
     "text": [
      "{'logisticregression__penalty': 'l2', 'polynomialfeatures__degree': 2, 'logisticregression__tol': 0.01, 'logisticregression__C': 10, 'pca__n_components': 22}\n"
     ]
    }
   ],
   "source": [
    "print(grid.best_params_)\n",
    "model = grid.best_estimator_\n",
    "y_pred = model.predict(X_test_std)"
   ]
  },
  {
   "cell_type": "code",
   "execution_count": 158,
   "metadata": {
    "collapsed": false
   },
   "outputs": [
    {
     "name": "stdout",
     "output_type": "stream",
     "text": [
      "                       precision    recall  f1-score   support\n",
      "\n",
      "       1 - Spruce/Fir       0.66      0.65      0.65       679\n",
      "   2 - Lodgepole Pine       0.67      0.57      0.61       722\n",
      "   3 - Ponderosa Pine       0.70      0.68      0.69       704\n",
      "4 - Cottonwood/Willow       0.83      0.95      0.88       739\n",
      "            5 - Aspen       0.80      0.86      0.82       721\n",
      "      6 - Douglas-fir       0.74      0.72      0.73       722\n",
      "        7 - Krummholz       0.91      0.90      0.90       703\n",
      "\n",
      "          avg / total       0.76      0.76      0.76      4990\n",
      "\n"
     ]
    }
   ],
   "source": [
    "print(classification_report(y_test, y_pred, target_names=target_names))"
   ]
  },
  {
   "cell_type": "markdown",
   "metadata": {},
   "source": [
    "## GMM"
   ]
  },
  {
   "cell_type": "code",
   "execution_count": 109,
   "metadata": {
    "collapsed": false
   },
   "outputs": [
    {
     "name": "stdout",
     "output_type": "stream",
     "text": [
      "11664\n",
      "{'pca_n': 9, 'cov_type': 'full', 'gmm_n': 42, 'accuracy': 0.80781563126252509}\n"
     ]
    }
   ],
   "source": [
    "def run_exp(pca_n, gmm_n, cov_type):\n",
    "\n",
    "    pca = PCA(n_components=pca_n)\n",
    "    pca.fit(X_train_std)\n",
    "    X_train_pca = pca.transform(X_train_std)\n",
    "    X_test_pca = pca.transform(X_test_std)\n",
    "    \n",
    "    all_scores = np.zeros(y_test.shape)\n",
    "    for label in range(1, len(target_names) + 1):\n",
    "        X = X_train_pca[np.where(y_train == label)]\n",
    "        gmm = GaussianMixture(n_components=gmm_n,\n",
    "                              covariance_type=cov_type)\n",
    "        gmm.fit(X)\n",
    "        scores = gmm.score_samples(X_test_pca)\n",
    "        all_scores = np.column_stack((all_scores, scores))\n",
    "        \n",
    "    all_scores = np.delete(all_scores, (0), axis=1)\n",
    "    \n",
    "    # choose the max index for each row for pred\n",
    "    y_pred = all_scores.argmax(axis=1)\n",
    "    y_pred = y_pred + 1\n",
    "    accuracy = np.mean(y_pred == y_test)\n",
    "    return accuracy\n",
    "\n",
    "matrix_types = ('spherical', 'diag', 'tied', 'full')\n",
    "n_pca_components = range(1, 55)\n",
    "n_gmm_components = range(1, 55)\n",
    "accuracies = []\n",
    "\n",
    "for cov_type in matrix_types:\n",
    "    for pca_n in n_pca_components:\n",
    "        for gmm_n in n_gmm_components:\n",
    "            accuracy = run_exp(pca_n=pca_n, \n",
    "                               gmm_n=gmm_n,\n",
    "                               cov_type=cov_type)\n",
    "            accuracies.append({'accuracy': accuracy, 'cov_type': cov_type,\n",
    "                               'pca_n': pca_n, 'gmm_n': gmm_n})\n",
    "            clear_output()\n",
    "            print(len(accuracies))\n",
    "\n",
    "print(sorted(accuracies, key=lambda k: k['accuracy'])[-1])"
   ]
  },
  {
   "cell_type": "markdown",
   "metadata": {
    "collapsed": false
   },
   "source": [
    "## Forest Methods"
   ]
  },
  {
   "cell_type": "code",
   "execution_count": 79,
   "metadata": {
    "collapsed": false
   },
   "outputs": [
    {
     "name": "stdout",
     "output_type": "stream",
     "text": [
      "Accuracy (a decision tree): 0.781563126253\n"
     ]
    }
   ],
   "source": [
    "dt = DecisionTreeClassifier(criterion=\"entropy\", splitter=\"best\", random_state=0)\n",
    "dt.fit(X_train_std, y_train)\n",
    "\n",
    "print ('Accuracy (a decision tree):', dt.score(X_test_std, y_test))"
   ]
  },
  {
   "cell_type": "code",
   "execution_count": 554,
   "metadata": {
    "collapsed": false
   },
   "outputs": [
    {
     "name": "stdout",
     "output_type": "stream",
     "text": [
      "Fitting 3 folds for each of 240 candidates, totalling 720 fits\n"
     ]
    },
    {
     "name": "stderr",
     "output_type": "stream",
     "text": [
      "[Parallel(n_jobs=6)]: Done  38 tasks      | elapsed:  5.3min\n",
      "[Parallel(n_jobs=6)]: Done 188 tasks      | elapsed: 32.7min\n",
      "[Parallel(n_jobs=6)]: Done 438 tasks      | elapsed: 78.6min\n",
      "[Parallel(n_jobs=6)]: Done 720 out of 720 | elapsed: 147.7min finished\n"
     ]
    },
    {
     "name": "stdout",
     "output_type": "stream",
     "text": [
      "CPU times: user 35.9 s, sys: 3.38 s, total: 39.3 s\n",
      "Wall time: 2h 28min 10s\n"
     ]
    },
    {
     "data": {
      "text/plain": [
       "GridSearchCV(cv=3, error_score='raise',\n",
       "       estimator=Pipeline(steps=[('randomforestclassifier', RandomForestClassifier(bootstrap=True, class_weight=None, criterion='gini',\n",
       "            max_depth=None, max_features='auto', max_leaf_nodes=None,\n",
       "            min_impurity_split=1e-07, min_samples_leaf=1,\n",
       "            min_samples_split=2, min_weight_fraction_leaf=0.0,\n",
       "            n_estimators=10, n_jobs=1, oob_score=False, random_state=None,\n",
       "            verbose=0, warm_start=False))]),\n",
       "       fit_params={}, iid=True, n_jobs=6,\n",
       "       param_grid={'randomforestclassifier__criterion': ['entropy', 'gini'], 'randomforestclassifier__max_depth': [None, 20, 30], 'randomforestclassifier__bootstrap': [True, False], 'randomforestclassifier__n_estimators': [100, 200, 500, 1000, 5000], 'randomforestclassifier__max_features': [None, 'sqrt', 0.5, 0.75]},\n",
       "       pre_dispatch='2*n_jobs', refit=True, return_train_score=True,\n",
       "       scoring=None, verbose=1)"
      ]
     },
     "execution_count": 554,
     "metadata": {},
     "output_type": "execute_result"
    }
   ],
   "source": [
    "model = make_pipeline(RandomForestClassifier())\n",
    "\n",
    "param_grid = {\n",
    "    'randomforestclassifier__n_estimators': [100, 200, 500, 1000, 5000], \n",
    "    'randomforestclassifier__criterion': ['entropy', 'gini'],\n",
    "    'randomforestclassifier__max_features': [None, 'sqrt', .5, .75],\n",
    "    'randomforestclassifier__max_depth': [None, 20, 30],\n",
    "    'randomforestclassifier__bootstrap': [True, False],\n",
    "}\n",
    "grid = GridSearchCV(model, param_grid, cv=3, n_jobs=6, verbose=1)\n",
    "%time grid.fit(X_train_std, y_train)"
   ]
  },
  {
   "cell_type": "code",
   "execution_count": 555,
   "metadata": {
    "collapsed": false
   },
   "outputs": [
    {
     "name": "stdout",
     "output_type": "stream",
     "text": [
      "{'randomforestclassifier__criterion': 'entropy', 'randomforestclassifier__max_depth': 30, 'randomforestclassifier__bootstrap': False, 'randomforestclassifier__n_estimators': 1000, 'randomforestclassifier__max_features': 'sqrt'}\n",
      "                       precision    recall  f1-score   support\n",
      "\n",
      "       1 - Spruce/Fir       0.78      0.78      0.78       679\n",
      "   2 - Lodgepole Pine       0.80      0.69      0.74       722\n",
      "   3 - Ponderosa Pine       0.84      0.82      0.83       704\n",
      "4 - Cottonwood/Willow       0.93      0.98      0.95       739\n",
      "            5 - Aspen       0.90      0.95      0.92       721\n",
      "      6 - Douglas-fir       0.86      0.88      0.87       722\n",
      "        7 - Krummholz       0.95      0.97      0.96       703\n",
      "\n",
      "          avg / total       0.87      0.87      0.87      4990\n",
      "\n"
     ]
    }
   ],
   "source": [
    "print(grid.best_params_)\n",
    "model = grid.best_estimator_\n",
    "y_pred = model.predict(X_test_std)\n",
    "print(classification_report(y_test, y_pred, target_names=target_names))"
   ]
  },
  {
   "cell_type": "code",
   "execution_count": 82,
   "metadata": {
    "collapsed": false
   },
   "outputs": [
    {
     "name": "stdout",
     "output_type": "stream",
     "text": [
      "Accuracy (adaboost with decision trees): 0.77875751503\n"
     ]
    }
   ],
   "source": [
    "abc = AdaBoostClassifier(\n",
    "    base_estimator=DecisionTreeClassifier(criterion=\"entropy\", splitter=\"best\", random_state=0), \n",
    "    n_estimators=200, learning_rate=0.1)\n",
    "\n",
    "abc.fit(X_train_std, y_train)\n",
    "print ('Accuracy (adaboost with decision trees):', abc.score(X_test_std, y_test))"
   ]
  },
  {
   "cell_type": "code",
   "execution_count": 467,
   "metadata": {
    "collapsed": false
   },
   "outputs": [],
   "source": [
    "def run_rand_forest(X_train, y_train, X_test, y_test): \n",
    "    rfc = RandomForestClassifier(n_estimators=200, criterion='entropy', max_features='sqrt', n_jobs=-1)\n",
    "    rfc.fit(X_train, y_train)\n",
    "    accuracy = rfc.score(X_test, y_test)\n",
    "    return accuracy\n",
    "\n",
    "def run_ridge(X_train, y_train, X_test, y_test, alpha=.1):\n",
    "    ridge = RidgeClassifier(alpha=alpha, normalize=True)\n",
    "    ridge.fit(X_train, y_train)\n",
    "    return ridge.score(X_test, y_test)"
   ]
  },
  {
   "cell_type": "code",
   "execution_count": 468,
   "metadata": {
    "collapsed": false
   },
   "outputs": [
    {
     "data": {
      "text/plain": [
       "0.85490981963927859"
      ]
     },
     "execution_count": 468,
     "metadata": {},
     "output_type": "execute_result"
    }
   ],
   "source": [
    "run_rand_forest(X_train, y_train, X_test, y_test)"
   ]
  },
  {
   "cell_type": "code",
   "execution_count": 469,
   "metadata": {
    "collapsed": false
   },
   "outputs": [
    {
     "data": {
      "text/plain": [
       "0.85951903807615226"
      ]
     },
     "execution_count": 469,
     "metadata": {},
     "output_type": "execute_result"
    }
   ],
   "source": [
    "run_rand_forest(X_train_std, y_train, X_test_std, y_test)"
   ]
  },
  {
   "cell_type": "markdown",
   "metadata": {},
   "source": [
    "## Feature Engineering"
   ]
  },
  {
   "cell_type": "code",
   "execution_count": 530,
   "metadata": {
    "collapsed": true
   },
   "outputs": [],
   "source": [
    "def split_data(data, labels):\n",
    "    X_train, X_test, y_train, y_test = train_test_split(\n",
    "        data, labels, test_size=0.33, random_state=40)\n",
    "    return X_train, y_train, X_test, y_test"
   ]
  },
  {
   "cell_type": "code",
   "execution_count": 531,
   "metadata": {
    "collapsed": false
   },
   "outputs": [
    {
     "data": {
      "text/plain": [
       "0.82825651302605208"
      ]
     },
     "execution_count": 531,
     "metadata": {},
     "output_type": "execute_result"
    }
   ],
   "source": [
    "run_rand_forest(X_train.as_matrix()[:, 0:10], y_train, X_test.as_matrix()[:, 0:10], y_test)"
   ]
  },
  {
   "cell_type": "code",
   "execution_count": 472,
   "metadata": {
    "collapsed": false
   },
   "outputs": [
    {
     "data": {
      "text/plain": [
       "0.62645290581162327"
      ]
     },
     "execution_count": 472,
     "metadata": {},
     "output_type": "execute_result"
    }
   ],
   "source": [
    "run_ridge(X_train, y_train, X_test, y_test, )"
   ]
  },
  {
   "cell_type": "code",
   "execution_count": 264,
   "metadata": {
    "collapsed": false
   },
   "outputs": [
    {
     "data": {
      "text/plain": [
       "0.32845691382765529"
      ]
     },
     "execution_count": 264,
     "metadata": {},
     "output_type": "execute_result"
    }
   ],
   "source": [
    "run_rand_forest(X_train.as_matrix()[:, 11:15], y_train, X_test.as_matrix()[:, 11:15], y_test)"
   ]
  },
  {
   "cell_type": "code",
   "execution_count": 364,
   "metadata": {
    "collapsed": false
   },
   "outputs": [
    {
     "data": {
      "text/plain": [
       "0.85771543086172342"
      ]
     },
     "execution_count": 364,
     "metadata": {},
     "output_type": "execute_result"
    }
   ],
   "source": [
    "rfc = RandomForestClassifier(n_estimators=100, criterion='entropy', max_features='sqrt', n_jobs=-1)\n",
    "rfc.fit(X_train, y_train)\n",
    "preds = rfc.predict(X_test)\n",
    "np.mean(preds == y_test)"
   ]
  },
  {
   "cell_type": "code",
   "execution_count": 365,
   "metadata": {
    "collapsed": false
   },
   "outputs": [],
   "source": [
    "# msk = (y_test == 1) & (preds != 1)\n",
    "# X_test.ix[msk]"
   ]
  },
  {
   "cell_type": "markdown",
   "metadata": {},
   "source": [
    "### Binning hillshade_noon"
   ]
  },
  {
   "cell_type": "code",
   "execution_count": 366,
   "metadata": {
    "collapsed": false
   },
   "outputs": [],
   "source": [
    "noon_bins = np.linspace(0, 255, 4)\n",
    "which_bin = np.digitize(X_train.Hillshade_Noon, bins=noon_bins)\n",
    "\n",
    "encoder = OneHotEncoder(sparse=False)\n",
    "encoder.fit(which_bin.reshape(-1, 1))\n",
    "X_train_noon_binned = encoder.transform(which_bin.reshape(-1, 1))"
   ]
  },
  {
   "cell_type": "code",
   "execution_count": 367,
   "metadata": {
    "collapsed": false
   },
   "outputs": [],
   "source": [
    "X_train_with_binned = np.hstack([X_train.drop('Hillshade_Noon', axis=1), X_train_noon_binned])\n",
    "\n",
    "which_bin = np.digitize(X_test.Hillshade_Noon, bins=noon_bins)\n",
    "X_test_noon_binned = encoder.transform(which_bin.reshape(-1, 1))\n",
    "X_test_with_binned = np.hstack([X_test.drop('Hillshade_Noon', axis=1), X_test_noon_binned])"
   ]
  },
  {
   "cell_type": "code",
   "execution_count": 368,
   "metadata": {
    "collapsed": false
   },
   "outputs": [
    {
     "data": {
      "text/plain": [
       "0.85671342685370744"
      ]
     },
     "execution_count": 368,
     "metadata": {},
     "output_type": "execute_result"
    }
   ],
   "source": [
    "run_rand_forest(X_train_with_binned, y_train, X_test_with_binned, y_test)"
   ]
  },
  {
   "cell_type": "markdown",
   "metadata": {},
   "source": [
    "### Convert aspect to cardinal direction (north, south, east, west)"
   ]
  },
  {
   "cell_type": "code",
   "execution_count": 509,
   "metadata": {
    "collapsed": false
   },
   "outputs": [],
   "source": [
    "\n",
    "new_data = data.copy(deep=True)\n",
    "dir_labels = ['north east', 'east north', 'east south', 'south east', \n",
    "          'south west', 'west south', 'west north', 'north west']\n",
    "new_data.loc[:, ('direction')] = pd.cut(data.loc[:, ('Aspect')], range(0, 365, 45), right=False, labels=dir_labels)\n",
    "\n",
    "new_data.direction = new_data.direction.replace('east north', 'north') \\\n",
    "    .replace('north west', 'north') \\\n",
    "    .replace('east north', 'east').replace('east south', 'east').replace('south east', 'south') \\\n",
    "    .replace('south west', 'south').replace('west south', 'west').replace('west north', 'west') \\\n",
    "    .replace('north east', 'north')"
   ]
  },
  {
   "cell_type": "code",
   "execution_count": 510,
   "metadata": {
    "collapsed": false
   },
   "outputs": [
    {
     "data": {
      "text/html": [
       "<div>\n",
       "<table border=\"1\" class=\"dataframe\">\n",
       "  <thead>\n",
       "    <tr style=\"text-align: right;\">\n",
       "      <th></th>\n",
       "      <th>Elevation</th>\n",
       "      <th>Aspect</th>\n",
       "      <th>Slope</th>\n",
       "      <th>Horizontal_Distance_To_Hydrology</th>\n",
       "      <th>Vertical_Distance_To_Hydrology</th>\n",
       "      <th>Horizontal_Distance_To_Roadways</th>\n",
       "      <th>Hillshade_9am</th>\n",
       "      <th>Hillshade_Noon</th>\n",
       "      <th>Hillshade_3pm</th>\n",
       "      <th>Horizontal_Distance_To_Fire_Points</th>\n",
       "      <th>...</th>\n",
       "      <th>Soil_Type35</th>\n",
       "      <th>Soil_Type36</th>\n",
       "      <th>Soil_Type37</th>\n",
       "      <th>Soil_Type38</th>\n",
       "      <th>Soil_Type39</th>\n",
       "      <th>Soil_Type40</th>\n",
       "      <th>direction_east</th>\n",
       "      <th>direction_north</th>\n",
       "      <th>direction_south</th>\n",
       "      <th>direction_west</th>\n",
       "    </tr>\n",
       "  </thead>\n",
       "  <tbody>\n",
       "    <tr>\n",
       "      <th>0</th>\n",
       "      <td>2596</td>\n",
       "      <td>51</td>\n",
       "      <td>3</td>\n",
       "      <td>258</td>\n",
       "      <td>0</td>\n",
       "      <td>510</td>\n",
       "      <td>221</td>\n",
       "      <td>232</td>\n",
       "      <td>148</td>\n",
       "      <td>6279</td>\n",
       "      <td>...</td>\n",
       "      <td>0</td>\n",
       "      <td>0</td>\n",
       "      <td>0</td>\n",
       "      <td>0</td>\n",
       "      <td>0</td>\n",
       "      <td>0</td>\n",
       "      <td>0</td>\n",
       "      <td>1</td>\n",
       "      <td>0</td>\n",
       "      <td>0</td>\n",
       "    </tr>\n",
       "    <tr>\n",
       "      <th>1</th>\n",
       "      <td>2590</td>\n",
       "      <td>56</td>\n",
       "      <td>2</td>\n",
       "      <td>212</td>\n",
       "      <td>-6</td>\n",
       "      <td>390</td>\n",
       "      <td>220</td>\n",
       "      <td>235</td>\n",
       "      <td>151</td>\n",
       "      <td>6225</td>\n",
       "      <td>...</td>\n",
       "      <td>0</td>\n",
       "      <td>0</td>\n",
       "      <td>0</td>\n",
       "      <td>0</td>\n",
       "      <td>0</td>\n",
       "      <td>0</td>\n",
       "      <td>0</td>\n",
       "      <td>1</td>\n",
       "      <td>0</td>\n",
       "      <td>0</td>\n",
       "    </tr>\n",
       "    <tr>\n",
       "      <th>2</th>\n",
       "      <td>2804</td>\n",
       "      <td>139</td>\n",
       "      <td>9</td>\n",
       "      <td>268</td>\n",
       "      <td>65</td>\n",
       "      <td>3180</td>\n",
       "      <td>234</td>\n",
       "      <td>238</td>\n",
       "      <td>135</td>\n",
       "      <td>6121</td>\n",
       "      <td>...</td>\n",
       "      <td>0</td>\n",
       "      <td>0</td>\n",
       "      <td>0</td>\n",
       "      <td>0</td>\n",
       "      <td>0</td>\n",
       "      <td>0</td>\n",
       "      <td>0</td>\n",
       "      <td>0</td>\n",
       "      <td>1</td>\n",
       "      <td>0</td>\n",
       "    </tr>\n",
       "    <tr>\n",
       "      <th>3</th>\n",
       "      <td>2785</td>\n",
       "      <td>155</td>\n",
       "      <td>18</td>\n",
       "      <td>242</td>\n",
       "      <td>118</td>\n",
       "      <td>3090</td>\n",
       "      <td>238</td>\n",
       "      <td>238</td>\n",
       "      <td>122</td>\n",
       "      <td>6211</td>\n",
       "      <td>...</td>\n",
       "      <td>0</td>\n",
       "      <td>0</td>\n",
       "      <td>0</td>\n",
       "      <td>0</td>\n",
       "      <td>0</td>\n",
       "      <td>0</td>\n",
       "      <td>0</td>\n",
       "      <td>0</td>\n",
       "      <td>1</td>\n",
       "      <td>0</td>\n",
       "    </tr>\n",
       "    <tr>\n",
       "      <th>4</th>\n",
       "      <td>2595</td>\n",
       "      <td>45</td>\n",
       "      <td>2</td>\n",
       "      <td>153</td>\n",
       "      <td>-1</td>\n",
       "      <td>391</td>\n",
       "      <td>220</td>\n",
       "      <td>234</td>\n",
       "      <td>150</td>\n",
       "      <td>6172</td>\n",
       "      <td>...</td>\n",
       "      <td>0</td>\n",
       "      <td>0</td>\n",
       "      <td>0</td>\n",
       "      <td>0</td>\n",
       "      <td>0</td>\n",
       "      <td>0</td>\n",
       "      <td>0</td>\n",
       "      <td>1</td>\n",
       "      <td>0</td>\n",
       "      <td>0</td>\n",
       "    </tr>\n",
       "  </tbody>\n",
       "</table>\n",
       "<p>5 rows × 56 columns</p>\n",
       "</div>"
      ],
      "text/plain": [
       "   Elevation  Aspect  Slope  Horizontal_Distance_To_Hydrology  \\\n",
       "0       2596      51      3                               258   \n",
       "1       2590      56      2                               212   \n",
       "2       2804     139      9                               268   \n",
       "3       2785     155     18                               242   \n",
       "4       2595      45      2                               153   \n",
       "\n",
       "   Vertical_Distance_To_Hydrology  Horizontal_Distance_To_Roadways  \\\n",
       "0                               0                              510   \n",
       "1                              -6                              390   \n",
       "2                              65                             3180   \n",
       "3                             118                             3090   \n",
       "4                              -1                              391   \n",
       "\n",
       "   Hillshade_9am  Hillshade_Noon  Hillshade_3pm  \\\n",
       "0            221             232            148   \n",
       "1            220             235            151   \n",
       "2            234             238            135   \n",
       "3            238             238            122   \n",
       "4            220             234            150   \n",
       "\n",
       "   Horizontal_Distance_To_Fire_Points       ...        Soil_Type35  \\\n",
       "0                                6279       ...                  0   \n",
       "1                                6225       ...                  0   \n",
       "2                                6121       ...                  0   \n",
       "3                                6211       ...                  0   \n",
       "4                                6172       ...                  0   \n",
       "\n",
       "   Soil_Type36  Soil_Type37  Soil_Type38  Soil_Type39  Soil_Type40  \\\n",
       "0            0            0            0            0            0   \n",
       "1            0            0            0            0            0   \n",
       "2            0            0            0            0            0   \n",
       "3            0            0            0            0            0   \n",
       "4            0            0            0            0            0   \n",
       "\n",
       "   direction_east  direction_north  direction_south  direction_west  \n",
       "0               0                1                0               0  \n",
       "1               0                1                0               0  \n",
       "2               0                0                1               0  \n",
       "3               0                0                1               0  \n",
       "4               0                1                0               0  \n",
       "\n",
       "[5 rows x 56 columns]"
      ]
     },
     "execution_count": 510,
     "metadata": {},
     "output_type": "execute_result"
    }
   ],
   "source": [
    "new_data = pd.get_dummies(new_data)\n",
    "new_data.head()"
   ]
  },
  {
   "cell_type": "code",
   "execution_count": 533,
   "metadata": {
    "collapsed": false
   },
   "outputs": [
    {
     "data": {
      "text/plain": [
       "0.85350701402805607"
      ]
     },
     "execution_count": 533,
     "metadata": {},
     "output_type": "execute_result"
    }
   ],
   "source": [
    "run_rand_forest(*split_data(new_data, labels))"
   ]
  },
  {
   "cell_type": "code",
   "execution_count": 536,
   "metadata": {
    "collapsed": false
   },
   "outputs": [
    {
     "data": {
      "text/plain": [
       "0.62505010020040075"
      ]
     },
     "execution_count": 536,
     "metadata": {},
     "output_type": "execute_result"
    }
   ],
   "source": [
    "run_ridge(*split_data(new_data, labels))"
   ]
  },
  {
   "cell_type": "markdown",
   "metadata": {},
   "source": [
    "### Convert horizontal and vertical distance to hydrology to euclidean distance"
   ]
  },
  {
   "cell_type": "code",
   "execution_count": 538,
   "metadata": {
    "collapsed": false
   },
   "outputs": [
    {
     "data": {
      "text/html": [
       "<div>\n",
       "<table border=\"1\" class=\"dataframe\">\n",
       "  <thead>\n",
       "    <tr style=\"text-align: right;\">\n",
       "      <th></th>\n",
       "      <th>Elevation</th>\n",
       "      <th>Aspect</th>\n",
       "      <th>Slope</th>\n",
       "      <th>Horizontal_Distance_To_Hydrology</th>\n",
       "      <th>Vertical_Distance_To_Hydrology</th>\n",
       "      <th>Horizontal_Distance_To_Roadways</th>\n",
       "      <th>Hillshade_9am</th>\n",
       "      <th>Hillshade_Noon</th>\n",
       "      <th>Hillshade_3pm</th>\n",
       "      <th>Horizontal_Distance_To_Fire_Points</th>\n",
       "      <th>...</th>\n",
       "      <th>Soil_Type32</th>\n",
       "      <th>Soil_Type33</th>\n",
       "      <th>Soil_Type34</th>\n",
       "      <th>Soil_Type35</th>\n",
       "      <th>Soil_Type36</th>\n",
       "      <th>Soil_Type37</th>\n",
       "      <th>Soil_Type38</th>\n",
       "      <th>Soil_Type39</th>\n",
       "      <th>Soil_Type40</th>\n",
       "      <th>euclid_to_hydro</th>\n",
       "    </tr>\n",
       "  </thead>\n",
       "  <tbody>\n",
       "    <tr>\n",
       "      <th>0</th>\n",
       "      <td>2596</td>\n",
       "      <td>51</td>\n",
       "      <td>3</td>\n",
       "      <td>258</td>\n",
       "      <td>0</td>\n",
       "      <td>510</td>\n",
       "      <td>221</td>\n",
       "      <td>232</td>\n",
       "      <td>148</td>\n",
       "      <td>6279</td>\n",
       "      <td>...</td>\n",
       "      <td>0</td>\n",
       "      <td>0</td>\n",
       "      <td>0</td>\n",
       "      <td>0</td>\n",
       "      <td>0</td>\n",
       "      <td>0</td>\n",
       "      <td>0</td>\n",
       "      <td>0</td>\n",
       "      <td>0</td>\n",
       "      <td>258.000000</td>\n",
       "    </tr>\n",
       "    <tr>\n",
       "      <th>1</th>\n",
       "      <td>2590</td>\n",
       "      <td>56</td>\n",
       "      <td>2</td>\n",
       "      <td>212</td>\n",
       "      <td>-6</td>\n",
       "      <td>390</td>\n",
       "      <td>220</td>\n",
       "      <td>235</td>\n",
       "      <td>151</td>\n",
       "      <td>6225</td>\n",
       "      <td>...</td>\n",
       "      <td>0</td>\n",
       "      <td>0</td>\n",
       "      <td>0</td>\n",
       "      <td>0</td>\n",
       "      <td>0</td>\n",
       "      <td>0</td>\n",
       "      <td>0</td>\n",
       "      <td>0</td>\n",
       "      <td>0</td>\n",
       "      <td>212.084889</td>\n",
       "    </tr>\n",
       "    <tr>\n",
       "      <th>2</th>\n",
       "      <td>2804</td>\n",
       "      <td>139</td>\n",
       "      <td>9</td>\n",
       "      <td>268</td>\n",
       "      <td>65</td>\n",
       "      <td>3180</td>\n",
       "      <td>234</td>\n",
       "      <td>238</td>\n",
       "      <td>135</td>\n",
       "      <td>6121</td>\n",
       "      <td>...</td>\n",
       "      <td>0</td>\n",
       "      <td>0</td>\n",
       "      <td>0</td>\n",
       "      <td>0</td>\n",
       "      <td>0</td>\n",
       "      <td>0</td>\n",
       "      <td>0</td>\n",
       "      <td>0</td>\n",
       "      <td>0</td>\n",
       "      <td>275.769832</td>\n",
       "    </tr>\n",
       "    <tr>\n",
       "      <th>3</th>\n",
       "      <td>2785</td>\n",
       "      <td>155</td>\n",
       "      <td>18</td>\n",
       "      <td>242</td>\n",
       "      <td>118</td>\n",
       "      <td>3090</td>\n",
       "      <td>238</td>\n",
       "      <td>238</td>\n",
       "      <td>122</td>\n",
       "      <td>6211</td>\n",
       "      <td>...</td>\n",
       "      <td>0</td>\n",
       "      <td>0</td>\n",
       "      <td>0</td>\n",
       "      <td>0</td>\n",
       "      <td>0</td>\n",
       "      <td>0</td>\n",
       "      <td>0</td>\n",
       "      <td>0</td>\n",
       "      <td>0</td>\n",
       "      <td>269.235956</td>\n",
       "    </tr>\n",
       "    <tr>\n",
       "      <th>4</th>\n",
       "      <td>2595</td>\n",
       "      <td>45</td>\n",
       "      <td>2</td>\n",
       "      <td>153</td>\n",
       "      <td>-1</td>\n",
       "      <td>391</td>\n",
       "      <td>220</td>\n",
       "      <td>234</td>\n",
       "      <td>150</td>\n",
       "      <td>6172</td>\n",
       "      <td>...</td>\n",
       "      <td>0</td>\n",
       "      <td>0</td>\n",
       "      <td>0</td>\n",
       "      <td>0</td>\n",
       "      <td>0</td>\n",
       "      <td>0</td>\n",
       "      <td>0</td>\n",
       "      <td>0</td>\n",
       "      <td>0</td>\n",
       "      <td>153.003268</td>\n",
       "    </tr>\n",
       "  </tbody>\n",
       "</table>\n",
       "<p>5 rows × 53 columns</p>\n",
       "</div>"
      ],
      "text/plain": [
       "   Elevation  Aspect  Slope  Horizontal_Distance_To_Hydrology  \\\n",
       "0       2596      51      3                               258   \n",
       "1       2590      56      2                               212   \n",
       "2       2804     139      9                               268   \n",
       "3       2785     155     18                               242   \n",
       "4       2595      45      2                               153   \n",
       "\n",
       "   Vertical_Distance_To_Hydrology  Horizontal_Distance_To_Roadways  \\\n",
       "0                               0                              510   \n",
       "1                              -6                              390   \n",
       "2                              65                             3180   \n",
       "3                             118                             3090   \n",
       "4                              -1                              391   \n",
       "\n",
       "   Hillshade_9am  Hillshade_Noon  Hillshade_3pm  \\\n",
       "0            221             232            148   \n",
       "1            220             235            151   \n",
       "2            234             238            135   \n",
       "3            238             238            122   \n",
       "4            220             234            150   \n",
       "\n",
       "   Horizontal_Distance_To_Fire_Points       ...         Soil_Type32  \\\n",
       "0                                6279       ...                   0   \n",
       "1                                6225       ...                   0   \n",
       "2                                6121       ...                   0   \n",
       "3                                6211       ...                   0   \n",
       "4                                6172       ...                   0   \n",
       "\n",
       "   Soil_Type33  Soil_Type34  Soil_Type35  Soil_Type36  Soil_Type37  \\\n",
       "0            0            0            0            0            0   \n",
       "1            0            0            0            0            0   \n",
       "2            0            0            0            0            0   \n",
       "3            0            0            0            0            0   \n",
       "4            0            0            0            0            0   \n",
       "\n",
       "   Soil_Type38  Soil_Type39  Soil_Type40  euclid_to_hydro  \n",
       "0            0            0            0       258.000000  \n",
       "1            0            0            0       212.084889  \n",
       "2            0            0            0       275.769832  \n",
       "3            0            0            0       269.235956  \n",
       "4            0            0            0       153.003268  \n",
       "\n",
       "[5 rows x 53 columns]"
      ]
     },
     "execution_count": 538,
     "metadata": {},
     "output_type": "execute_result"
    }
   ],
   "source": [
    "new_data = data.copy(deep=True)\n",
    "\n",
    "new_data.loc[:, ('euclid_to_hydro')] = np.sqrt(new_data.Horizontal_Distance_To_Hydrology ** 2 \\\n",
    "                                               + new_data.Vertical_Distance_To_Hydrology ** 2)\n",
    "new_data.head()"
   ]
  },
  {
   "cell_type": "code",
   "execution_count": 540,
   "metadata": {
    "collapsed": false
   },
   "outputs": [
    {
     "data": {
      "text/plain": [
       "0.85811623246492985"
      ]
     },
     "execution_count": 540,
     "metadata": {},
     "output_type": "execute_result"
    }
   ],
   "source": [
    "run_rand_forest(*split_data(new_data, labels))"
   ]
  },
  {
   "cell_type": "code",
   "execution_count": 541,
   "metadata": {
    "collapsed": false
   },
   "outputs": [
    {
     "data": {
      "text/plain": [
       "0.62284569138276558"
      ]
     },
     "execution_count": 541,
     "metadata": {},
     "output_type": "execute_result"
    }
   ],
   "source": [
    "run_ridge(*split_data(new_data, labels))"
   ]
  },
  {
   "cell_type": "code",
   "execution_count": null,
   "metadata": {
    "collapsed": true
   },
   "outputs": [],
   "source": []
  }
 ],
 "metadata": {
  "kernelspec": {
   "display_name": "Python 3",
   "language": "python",
   "name": "python3"
  },
  "language_info": {
   "codemirror_mode": {
    "name": "ipython",
    "version": 3
   },
   "file_extension": ".py",
   "mimetype": "text/x-python",
   "name": "python",
   "nbconvert_exporter": "python",
   "pygments_lexer": "ipython3",
   "version": "3.5.2"
  }
 },
 "nbformat": 4,
 "nbformat_minor": 2
}
